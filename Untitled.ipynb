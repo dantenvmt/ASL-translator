{
 "cells": [
  {
   "cell_type": "code",
   "execution_count": 2,
   "id": "abc992c7-1649-4f12-a687-12536a9a46ed",
   "metadata": {},
   "outputs": [],
   "source": [
    "import cv2\n",
    "import numpy as np\n",
    "import tensorflow as tf\n",
    "from tensorflow.keras.models import load_model\n",
    "\n",
    "# Load the trained model\n",
    "model = load_model('ASL.keras')\n",
    "class_labels = ['A', 'B', 'C', 'D', 'E', 'F', 'G', 'H', 'I', 'J', 'K', 'L', 'M',\n",
    "                'N', 'O', 'P', 'Q', 'R', 'S', 'T', 'U', 'V', 'W', 'X', 'Y', 'Z',\n",
    "                'del', 'nothing', 'space']\n",
    "cap = cv2.VideoCapture(0)\n"
   ]
  },
  {
   "cell_type": "code",
   "execution_count": 3,
   "id": "c98fff0b-6b9f-4182-be9c-927d1837df1f",
   "metadata": {},
   "outputs": [],
   "source": [
    "imageSize = 64 \n",
    "\n",
    "while True:\n",
    "    # Capture frame-by-frame\n",
    "    ret, frame = cap.read()\n",
    "    if not ret:\n",
    "        break\n",
    "\n",
    "    # Flip the frame (optional)\n",
    "    frame = cv2.flip(frame, 1)\n",
    "\n",
    "    # Define the region of interest (ROI)\n",
    "    x1, y1, x2, y2 = 200, 100, 500, 400\n",
    "    roi = frame[y1:y2, x1:x2]\n",
    "\n",
    "    # Preprocess the ROI\n",
    "    roi_resized = cv2.resize(roi, (imageSize, imageSize))\n",
    "    roi_normalized = roi_resized / 255.0\n",
    "    roi_expanded = np.expand_dims(roi_normalized, axis=0)\n",
    "\n",
    "    # Make prediction\n",
    "    predictions = model.predict(roi_expanded)\n",
    "    predicted_class_index = np.argmax(predictions, axis=1)[0]\n",
    "    predicted_class_label = class_labels[predicted_class_index]\n",
    "\n",
    "    # Display the prediction\n",
    "    cv2.putText(frame, f'Prediction: {predicted_class_label}', (x1, y1 - 10),\n",
    "                cv2.FONT_HERSHEY_SIMPLEX, 1, (255, 0, 0), 2, cv2.LINE_AA)\n",
    "\n",
    "    # Draw the ROI rectangle\n",
    "    cv2.rectangle(frame, (x1, y1), (x2, y2), (0, 255, 0), 2)\n",
    "\n",
    "    # Display the resulting frame\n",
    "    cv2.imshow('ASL Recognition', frame)\n",
    "\n",
    "    # Break the loop on 'q' key press\n",
    "    if cv2.waitKey(1) & 0xFF == ord('q'):\n",
    "        break\n",
    "\n",
    "# Release the capture and close windows\n",
    "cap.release()\n",
    "cv2.destroyAllWindows()\n"
   ]
  },
  {
   "cell_type": "code",
   "execution_count": null,
   "id": "c9b2589e-d9c0-4f8a-9b58-f3c3f9230172",
   "metadata": {},
   "outputs": [],
   "source": []
  }
 ],
 "metadata": {
  "kernelspec": {
   "display_name": "Python 3 (ipykernel)",
   "language": "python",
   "name": "python3"
  },
  "language_info": {
   "codemirror_mode": {
    "name": "ipython",
    "version": 3
   },
   "file_extension": ".py",
   "mimetype": "text/x-python",
   "name": "python",
   "nbconvert_exporter": "python",
   "pygments_lexer": "ipython3",
   "version": "3.9.13"
  }
 },
 "nbformat": 4,
 "nbformat_minor": 5
}
